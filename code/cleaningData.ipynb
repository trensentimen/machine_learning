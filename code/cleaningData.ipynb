{
 "cells": [
  {
   "cell_type": "code",
   "execution_count": 63,
   "id": "2e9b3e41",
   "metadata": {},
   "outputs": [
    {
     "name": "stdout",
     "output_type": "stream",
     "text": [
      "Defaulting to user installation because normal site-packages is not writeable\n",
      "Requirement already satisfied: textblob in c:\\users\\asus\\appdata\\roaming\\python\\python311\\site-packages (0.17.1)\n",
      "Requirement already satisfied: nltk>=3.1 in c:\\programdata\\anaconda3\\lib\\site-packages (from textblob) (3.8.1)\n",
      "Requirement already satisfied: click in c:\\users\\asus\\appdata\\roaming\\python\\python311\\site-packages (from nltk>=3.1->textblob) (7.1.2)\n",
      "Requirement already satisfied: joblib in c:\\programdata\\anaconda3\\lib\\site-packages (from nltk>=3.1->textblob) (1.2.0)\n",
      "Requirement already satisfied: regex>=2021.8.3 in c:\\programdata\\anaconda3\\lib\\site-packages (from nltk>=3.1->textblob) (2022.7.9)\n",
      "Requirement already satisfied: tqdm in c:\\programdata\\anaconda3\\lib\\site-packages (from nltk>=3.1->textblob) (4.65.0)\n",
      "Requirement already satisfied: colorama in c:\\programdata\\anaconda3\\lib\\site-packages (from tqdm->nltk>=3.1->textblob) (0.4.6)\n",
      "Note: you may need to restart the kernel to use updated packages.\n"
     ]
    }
   ],
   "source": [
    "pip install textblob"
   ]
  },
  {
   "cell_type": "code",
   "execution_count": 64,
   "id": "d0499253",
   "metadata": {},
   "outputs": [],
   "source": [
    "import pandas as pd\n",
    "import numpy as np\n",
    "\n",
    "import os\n",
    "\n",
    "from Sastrawi.StopWordRemover.StopWordRemoverFactory import StopWordRemoverFactory, StopWordRemover, ArrayDictionary\n",
    "\n",
    "from tqdm import tqdm \n",
    "\n",
    "import re\n",
    "import string\n",
    "\n",
    "from textblob import TextBlob"
   ]
  },
  {
   "cell_type": "code",
   "execution_count": 6,
   "id": "2036e90c",
   "metadata": {},
   "outputs": [],
   "source": [
    "# Specify the path to the directory containing your CSV files\n",
    "folder_path = 'dataset/'\n",
    "\n",
    "# Initialize an empty list to store DataFrames\n",
    "dfs = []\n",
    "\n",
    "# Iterate through each file in the specified directory\n",
    "for filename in os.listdir(folder_path):\n",
    "    if filename.endswith('.csv'):\n",
    "        # Construct the full path to the CSV file\n",
    "        file_path = os.path.join(folder_path, filename)\n",
    "        \n",
    "        # Read the CSV file into a DataFrame\n",
    "        df = pd.read_csv(file_path)\n",
    "        \n",
    "        # Append the DataFrame to the list\n",
    "        dfs.append(df)\n",
    "\n",
    "# Concatenate all DataFrames in the list into a single DataFrame\n",
    "combined_df = pd.concat(dfs, ignore_index=True)\n"
   ]
  },
  {
   "cell_type": "code",
   "execution_count": 14,
   "id": "9794aa9b",
   "metadata": {},
   "outputs": [
    {
     "data": {
      "text/html": [
       "<div>\n",
       "<style scoped>\n",
       "    .dataframe tbody tr th:only-of-type {\n",
       "        vertical-align: middle;\n",
       "    }\n",
       "\n",
       "    .dataframe tbody tr th {\n",
       "        vertical-align: top;\n",
       "    }\n",
       "\n",
       "    .dataframe thead th {\n",
       "        text-align: right;\n",
       "    }\n",
       "</style>\n",
       "<table border=\"1\" class=\"dataframe\">\n",
       "  <thead>\n",
       "    <tr style=\"text-align: right;\">\n",
       "      <th></th>\n",
       "      <th>publishedAt</th>\n",
       "      <th>authorDisplayName</th>\n",
       "      <th>textDisplay</th>\n",
       "      <th>likeCount</th>\n",
       "    </tr>\n",
       "  </thead>\n",
       "  <tbody>\n",
       "    <tr>\n",
       "      <th>0</th>\n",
       "      <td>2023-12-07T13:51:52Z</td>\n",
       "      <td>@idaesti1833</td>\n",
       "      <td>Semoga terwujud Aamiim presiden</td>\n",
       "      <td>0.0</td>\n",
       "    </tr>\n",
       "    <tr>\n",
       "      <th>1</th>\n",
       "      <td>2023-12-07T10:50:47Z</td>\n",
       "      <td>@smithwerben1058</td>\n",
       "      <td>MANTAPPPP</td>\n",
       "      <td>0.0</td>\n",
       "    </tr>\n",
       "    <tr>\n",
       "      <th>2</th>\n",
       "      <td>2023-12-07T05:37:35Z</td>\n",
       "      <td>@MahendraDatta-fi1vz</td>\n",
       "      <td>Anies cocok  jadi Presiden 8&lt;br&gt;Ganteng, amana...</td>\n",
       "      <td>0.0</td>\n",
       "    </tr>\n",
       "    <tr>\n",
       "      <th>3</th>\n",
       "      <td>2023-12-07T03:35:32Z</td>\n",
       "      <td>@CaturWidodo-lh2je</td>\n",
       "      <td>jujur demi Allah biarkan kalian mengoceh yang ...</td>\n",
       "      <td>0.0</td>\n",
       "    </tr>\n",
       "    <tr>\n",
       "      <th>4</th>\n",
       "      <td>2023-12-06T23:18:54Z</td>\n",
       "      <td>@asepsodikin6801</td>\n",
       "      <td>Sy dukung prabowa krn wakilnya bkan saatnya sk...</td>\n",
       "      <td>0.0</td>\n",
       "    </tr>\n",
       "    <tr>\n",
       "      <th>...</th>\n",
       "      <td>...</td>\n",
       "      <td>...</td>\n",
       "      <td>...</td>\n",
       "      <td>...</td>\n",
       "    </tr>\n",
       "    <tr>\n",
       "      <th>135179</th>\n",
       "      <td>2023-10-25T11:01:26Z</td>\n",
       "      <td>Gus Wedi</td>\n",
       "      <td>Woo...woo , ditipu berkali kali kok masih perc...</td>\n",
       "      <td>1.0</td>\n",
       "    </tr>\n",
       "    <tr>\n",
       "      <th>135180</th>\n",
       "      <td>2023-10-25T10:56:53Z</td>\n",
       "      <td>Singa Anom</td>\n",
       "      <td>Hoax lagi.....................&lt;a href=\"about:i...</td>\n",
       "      <td>0.0</td>\n",
       "    </tr>\n",
       "    <tr>\n",
       "      <th>135181</th>\n",
       "      <td>2023-10-25T10:56:12Z</td>\n",
       "      <td>Rakyat Jelata</td>\n",
       "      <td>Nggak salah kok pak, biar sama-sama nyungsep n...</td>\n",
       "      <td>3.0</td>\n",
       "    </tr>\n",
       "    <tr>\n",
       "      <th>135182</th>\n",
       "      <td>2023-10-25T11:29:48Z</td>\n",
       "      <td>Anak Terpelajar</td>\n",
       "      <td>Amin</td>\n",
       "      <td>0.0</td>\n",
       "    </tr>\n",
       "    <tr>\n",
       "      <th>135183</th>\n",
       "      <td>2023-10-25T10:55:30Z</td>\n",
       "      <td>karma berjalan</td>\n",
       "      <td>Ada anak yang kepingin wapres malah yang dapat...</td>\n",
       "      <td>0.0</td>\n",
       "    </tr>\n",
       "  </tbody>\n",
       "</table>\n",
       "<p>135184 rows × 4 columns</p>\n",
       "</div>"
      ],
      "text/plain": [
       "                 publishedAt     authorDisplayName  \\\n",
       "0       2023-12-07T13:51:52Z          @idaesti1833   \n",
       "1       2023-12-07T10:50:47Z      @smithwerben1058   \n",
       "2       2023-12-07T05:37:35Z  @MahendraDatta-fi1vz   \n",
       "3       2023-12-07T03:35:32Z    @CaturWidodo-lh2je   \n",
       "4       2023-12-06T23:18:54Z      @asepsodikin6801   \n",
       "...                      ...                   ...   \n",
       "135179  2023-10-25T11:01:26Z              Gus Wedi   \n",
       "135180  2023-10-25T10:56:53Z            Singa Anom   \n",
       "135181  2023-10-25T10:56:12Z         Rakyat Jelata   \n",
       "135182  2023-10-25T11:29:48Z       Anak Terpelajar   \n",
       "135183  2023-10-25T10:55:30Z        karma berjalan   \n",
       "\n",
       "                                              textDisplay  likeCount  \n",
       "0                         Semoga terwujud Aamiim presiden        0.0  \n",
       "1                                               MANTAPPPP        0.0  \n",
       "2       Anies cocok  jadi Presiden 8<br>Ganteng, amana...        0.0  \n",
       "3       jujur demi Allah biarkan kalian mengoceh yang ...        0.0  \n",
       "4       Sy dukung prabowa krn wakilnya bkan saatnya sk...        0.0  \n",
       "...                                                   ...        ...  \n",
       "135179  Woo...woo , ditipu berkali kali kok masih perc...        1.0  \n",
       "135180  Hoax lagi.....................<a href=\"about:i...        0.0  \n",
       "135181  Nggak salah kok pak, biar sama-sama nyungsep n...        3.0  \n",
       "135182                                               Amin        0.0  \n",
       "135183  Ada anak yang kepingin wapres malah yang dapat...        0.0  \n",
       "\n",
       "[135184 rows x 4 columns]"
      ]
     },
     "execution_count": 14,
     "metadata": {},
     "output_type": "execute_result"
    }
   ],
   "source": [
    "combined_df"
   ]
  },
  {
   "cell_type": "code",
   "execution_count": 15,
   "id": "1c88f6a8",
   "metadata": {},
   "outputs": [
    {
     "name": "stdout",
     "output_type": "stream",
     "text": [
      "<class 'pandas.core.frame.DataFrame'>\n",
      "RangeIndex: 135184 entries, 0 to 135183\n",
      "Data columns (total 4 columns):\n",
      " #   Column             Non-Null Count   Dtype  \n",
      "---  ------             --------------   -----  \n",
      " 0   publishedAt        135184 non-null  object \n",
      " 1   authorDisplayName  135113 non-null  object \n",
      " 2   textDisplay        135083 non-null  object \n",
      " 3   likeCount          135052 non-null  float64\n",
      "dtypes: float64(1), object(3)\n",
      "memory usage: 4.1+ MB\n"
     ]
    }
   ],
   "source": [
    "combined_df.info()"
   ]
  },
  {
   "cell_type": "code",
   "execution_count": 17,
   "id": "7c89a7fb",
   "metadata": {},
   "outputs": [
    {
     "data": {
      "text/html": [
       "<div>\n",
       "<style scoped>\n",
       "    .dataframe tbody tr th:only-of-type {\n",
       "        vertical-align: middle;\n",
       "    }\n",
       "\n",
       "    .dataframe tbody tr th {\n",
       "        vertical-align: top;\n",
       "    }\n",
       "\n",
       "    .dataframe thead th {\n",
       "        text-align: right;\n",
       "    }\n",
       "</style>\n",
       "<table border=\"1\" class=\"dataframe\">\n",
       "  <thead>\n",
       "    <tr style=\"text-align: right;\">\n",
       "      <th></th>\n",
       "      <th>publishedAt</th>\n",
       "      <th>authorDisplayName</th>\n",
       "      <th>textDisplay</th>\n",
       "      <th>likeCount</th>\n",
       "    </tr>\n",
       "  </thead>\n",
       "  <tbody>\n",
       "    <tr>\n",
       "      <th>0</th>\n",
       "      <td>2023-12-07T13:51:52Z</td>\n",
       "      <td>@idaesti1833</td>\n",
       "      <td>Semoga terwujud Aamiim presiden</td>\n",
       "      <td>0.0</td>\n",
       "    </tr>\n",
       "    <tr>\n",
       "      <th>1</th>\n",
       "      <td>2023-12-07T10:50:47Z</td>\n",
       "      <td>@smithwerben1058</td>\n",
       "      <td>MANTAPPPP</td>\n",
       "      <td>0.0</td>\n",
       "    </tr>\n",
       "    <tr>\n",
       "      <th>2</th>\n",
       "      <td>2023-12-07T05:37:35Z</td>\n",
       "      <td>@MahendraDatta-fi1vz</td>\n",
       "      <td>Anies cocok  jadi Presiden 8&lt;br&gt;Ganteng, amana...</td>\n",
       "      <td>0.0</td>\n",
       "    </tr>\n",
       "    <tr>\n",
       "      <th>3</th>\n",
       "      <td>2023-12-07T03:35:32Z</td>\n",
       "      <td>@CaturWidodo-lh2je</td>\n",
       "      <td>jujur demi Allah biarkan kalian mengoceh yang ...</td>\n",
       "      <td>0.0</td>\n",
       "    </tr>\n",
       "    <tr>\n",
       "      <th>4</th>\n",
       "      <td>2023-12-06T23:18:54Z</td>\n",
       "      <td>@asepsodikin6801</td>\n",
       "      <td>Sy dukung prabowa krn wakilnya bkan saatnya sk...</td>\n",
       "      <td>0.0</td>\n",
       "    </tr>\n",
       "  </tbody>\n",
       "</table>\n",
       "</div>"
      ],
      "text/plain": [
       "            publishedAt     authorDisplayName  \\\n",
       "0  2023-12-07T13:51:52Z          @idaesti1833   \n",
       "1  2023-12-07T10:50:47Z      @smithwerben1058   \n",
       "2  2023-12-07T05:37:35Z  @MahendraDatta-fi1vz   \n",
       "3  2023-12-07T03:35:32Z    @CaturWidodo-lh2je   \n",
       "4  2023-12-06T23:18:54Z      @asepsodikin6801   \n",
       "\n",
       "                                         textDisplay  likeCount  \n",
       "0                    Semoga terwujud Aamiim presiden        0.0  \n",
       "1                                          MANTAPPPP        0.0  \n",
       "2  Anies cocok  jadi Presiden 8<br>Ganteng, amana...        0.0  \n",
       "3  jujur demi Allah biarkan kalian mengoceh yang ...        0.0  \n",
       "4  Sy dukung prabowa krn wakilnya bkan saatnya sk...        0.0  "
      ]
     },
     "execution_count": 17,
     "metadata": {},
     "output_type": "execute_result"
    }
   ],
   "source": [
    "combined_df.head()"
   ]
  },
  {
   "cell_type": "code",
   "execution_count": 35,
   "id": "8a19d696",
   "metadata": {},
   "outputs": [],
   "source": [
    "df = combined_df.drop(columns=['authorDisplayName','likeCount'])"
   ]
  },
  {
   "cell_type": "code",
   "execution_count": 36,
   "id": "f26046ee",
   "metadata": {},
   "outputs": [
    {
     "data": {
      "text/html": [
       "<div>\n",
       "<style scoped>\n",
       "    .dataframe tbody tr th:only-of-type {\n",
       "        vertical-align: middle;\n",
       "    }\n",
       "\n",
       "    .dataframe tbody tr th {\n",
       "        vertical-align: top;\n",
       "    }\n",
       "\n",
       "    .dataframe thead th {\n",
       "        text-align: right;\n",
       "    }\n",
       "</style>\n",
       "<table border=\"1\" class=\"dataframe\">\n",
       "  <thead>\n",
       "    <tr style=\"text-align: right;\">\n",
       "      <th></th>\n",
       "      <th>publishedAt</th>\n",
       "      <th>textDisplay</th>\n",
       "    </tr>\n",
       "  </thead>\n",
       "  <tbody>\n",
       "    <tr>\n",
       "      <th>0</th>\n",
       "      <td>2023-12-07T13:51:52Z</td>\n",
       "      <td>Semoga terwujud Aamiim presiden</td>\n",
       "    </tr>\n",
       "    <tr>\n",
       "      <th>1</th>\n",
       "      <td>2023-12-07T10:50:47Z</td>\n",
       "      <td>MANTAPPPP</td>\n",
       "    </tr>\n",
       "    <tr>\n",
       "      <th>2</th>\n",
       "      <td>2023-12-07T05:37:35Z</td>\n",
       "      <td>Anies cocok  jadi Presiden 8&lt;br&gt;Ganteng, amana...</td>\n",
       "    </tr>\n",
       "    <tr>\n",
       "      <th>3</th>\n",
       "      <td>2023-12-07T03:35:32Z</td>\n",
       "      <td>jujur demi Allah biarkan kalian mengoceh yang ...</td>\n",
       "    </tr>\n",
       "    <tr>\n",
       "      <th>4</th>\n",
       "      <td>2023-12-06T23:18:54Z</td>\n",
       "      <td>Sy dukung prabowa krn wakilnya bkan saatnya sk...</td>\n",
       "    </tr>\n",
       "    <tr>\n",
       "      <th>...</th>\n",
       "      <td>...</td>\n",
       "      <td>...</td>\n",
       "    </tr>\n",
       "    <tr>\n",
       "      <th>135179</th>\n",
       "      <td>2023-10-25T11:01:26Z</td>\n",
       "      <td>Woo...woo , ditipu berkali kali kok masih perc...</td>\n",
       "    </tr>\n",
       "    <tr>\n",
       "      <th>135180</th>\n",
       "      <td>2023-10-25T10:56:53Z</td>\n",
       "      <td>Hoax lagi.....................&lt;a href=\"about:i...</td>\n",
       "    </tr>\n",
       "    <tr>\n",
       "      <th>135181</th>\n",
       "      <td>2023-10-25T10:56:12Z</td>\n",
       "      <td>Nggak salah kok pak, biar sama-sama nyungsep n...</td>\n",
       "    </tr>\n",
       "    <tr>\n",
       "      <th>135182</th>\n",
       "      <td>2023-10-25T11:29:48Z</td>\n",
       "      <td>Amin</td>\n",
       "    </tr>\n",
       "    <tr>\n",
       "      <th>135183</th>\n",
       "      <td>2023-10-25T10:55:30Z</td>\n",
       "      <td>Ada anak yang kepingin wapres malah yang dapat...</td>\n",
       "    </tr>\n",
       "  </tbody>\n",
       "</table>\n",
       "<p>135184 rows × 2 columns</p>\n",
       "</div>"
      ],
      "text/plain": [
       "                 publishedAt  \\\n",
       "0       2023-12-07T13:51:52Z   \n",
       "1       2023-12-07T10:50:47Z   \n",
       "2       2023-12-07T05:37:35Z   \n",
       "3       2023-12-07T03:35:32Z   \n",
       "4       2023-12-06T23:18:54Z   \n",
       "...                      ...   \n",
       "135179  2023-10-25T11:01:26Z   \n",
       "135180  2023-10-25T10:56:53Z   \n",
       "135181  2023-10-25T10:56:12Z   \n",
       "135182  2023-10-25T11:29:48Z   \n",
       "135183  2023-10-25T10:55:30Z   \n",
       "\n",
       "                                              textDisplay  \n",
       "0                         Semoga terwujud Aamiim presiden  \n",
       "1                                               MANTAPPPP  \n",
       "2       Anies cocok  jadi Presiden 8<br>Ganteng, amana...  \n",
       "3       jujur demi Allah biarkan kalian mengoceh yang ...  \n",
       "4       Sy dukung prabowa krn wakilnya bkan saatnya sk...  \n",
       "...                                                   ...  \n",
       "135179  Woo...woo , ditipu berkali kali kok masih perc...  \n",
       "135180  Hoax lagi.....................<a href=\"about:i...  \n",
       "135181  Nggak salah kok pak, biar sama-sama nyungsep n...  \n",
       "135182                                               Amin  \n",
       "135183  Ada anak yang kepingin wapres malah yang dapat...  \n",
       "\n",
       "[135184 rows x 2 columns]"
      ]
     },
     "execution_count": 36,
     "metadata": {},
     "output_type": "execute_result"
    }
   ],
   "source": [
    "df"
   ]
  },
  {
   "cell_type": "code",
   "execution_count": 37,
   "id": "a98fe7fb",
   "metadata": {},
   "outputs": [
    {
     "data": {
      "text/plain": [
       "publishedAt      0\n",
       "textDisplay    101\n",
       "dtype: int64"
      ]
     },
     "execution_count": 37,
     "metadata": {},
     "output_type": "execute_result"
    }
   ],
   "source": [
    "df.isnull().sum()"
   ]
  },
  {
   "cell_type": "code",
   "execution_count": 38,
   "id": "cf59d208",
   "metadata": {},
   "outputs": [
    {
     "name": "stdout",
     "output_type": "stream",
     "text": [
      "<class 'pandas.core.frame.DataFrame'>\n",
      "RangeIndex: 135184 entries, 0 to 135183\n",
      "Data columns (total 2 columns):\n",
      " #   Column       Non-Null Count   Dtype \n",
      "---  ------       --------------   ----- \n",
      " 0   publishedAt  135184 non-null  object\n",
      " 1   textDisplay  135083 non-null  object\n",
      "dtypes: object(2)\n",
      "memory usage: 2.1+ MB\n"
     ]
    }
   ],
   "source": [
    "df.info()"
   ]
  },
  {
   "cell_type": "code",
   "execution_count": 42,
   "id": "e70fb722",
   "metadata": {},
   "outputs": [
    {
     "name": "stdout",
     "output_type": "stream",
     "text": [
      "Info for Cleaned DataFrame:\n"
     ]
    },
    {
     "data": {
      "text/plain": [
       "publishedAt    0\n",
       "textDisplay    0\n",
       "dtype: int64"
      ]
     },
     "execution_count": 42,
     "metadata": {},
     "output_type": "execute_result"
    }
   ],
   "source": [
    "df_cleaned = df.dropna()\n",
    "\n",
    "# Tampilkan informasi tentang DataFrame yang sudah dibersihkan\n",
    "print(\"Info for Cleaned DataFrame:\")\n",
    "df_cleaned.isnull().sum()"
   ]
  },
  {
   "cell_type": "markdown",
   "id": "bf563c82",
   "metadata": {},
   "source": [
    "## Tahapan 2 Prepocessing\n",
    "1. stopword(Menghapus tanda @,http link,hastag,tanda baca petik, tanda seru, tanda tanya, spasi, nomor, emoji)\n",
    "2. Lower Case\n",
    "3. Tokenisasi"
   ]
  },
  {
   "cell_type": "code",
   "execution_count": 60,
   "id": "add1eaf8",
   "metadata": {},
   "outputs": [
    {
     "name": "stderr",
     "output_type": "stream",
     "text": [
      "100%|███████████████████████████████████████████████████████████████████████| 135083/135083 [00:08<00:00, 16434.80it/s]\n"
     ]
    }
   ],
   "source": [
    "clean_texts = []\n",
    "\n",
    "\n",
    "stop_factory = StopWordRemoverFactory().get_stop_words() #load defaul stopword\n",
    "\n",
    "for text in tqdm(df_cleaned['textDisplay']):\n",
    "    text = re.sub(\"@[A-Za-z0-9]+\",\"\",text)\n",
    "    text = re.sub(r\"(?:\\@|http?\\://|https?\\://|www)\\S+\", \"\", text) #Remove http links\n",
    "    text = text.replace(\"#\", \"\").replace(\"_\", \" \") #Remove hashtag sign but keep the text\n",
    "    text = re.sub(r\"\\d+\", \"\", text) # Remove number\n",
    "    text = text.replace('\"','') #remove quotation mark\n",
    "    text = text.lower() #Lower Case\n",
    "    text = text.strip() # Remove Whitespace\n",
    "    text = text.translate(str.maketrans(\"\",\"\",string.punctuation)) #Remove Punctuation\n",
    "    \n",
    "    # Menghapus Stopword\n",
    "    dictionary = ArrayDictionary(stop_factory)\n",
    "    swr = StopWordRemover(dictionary)\n",
    "    text = swr.remove(text)\n",
    "    clean_texts.append(text)"
   ]
  },
  {
   "cell_type": "code",
   "execution_count": 61,
   "id": "e340954c",
   "metadata": {},
   "outputs": [
    {
     "name": "stderr",
     "output_type": "stream",
     "text": [
      "C:\\Users\\ASUS\\AppData\\Local\\Temp\\ipykernel_22760\\3650337052.py:1: SettingWithCopyWarning: \n",
      "A value is trying to be set on a copy of a slice from a DataFrame.\n",
      "Try using .loc[row_indexer,col_indexer] = value instead\n",
      "\n",
      "See the caveats in the documentation: https://pandas.pydata.org/pandas-docs/stable/user_guide/indexing.html#returning-a-view-versus-a-copy\n",
      "  df_cleaned['clear'] = clean_texts\n"
     ]
    }
   ],
   "source": [
    "df_cleaned['clear'] = clean_texts"
   ]
  },
  {
   "cell_type": "markdown",
   "id": "ddfbbd6a",
   "metadata": {},
   "source": [
    "Klasifikasi sentimen ada 2 bagian, yaitu polarity dan subjectivity. Dengan function print, kita dapat melihat kedua hasil tersebut. Polarity digunakan untuk melihat seberapa positif atau negatif sebuah teks, dan subjectivity untuk melihat value dari tweet itu adalah opini atau faktual. Semakin tinggi subjectivity berarti tweet tersebut dapat dikatakan sebagai opini, sedangkan semakin tinggi polarity, itu menandakan feel/emotion yang semakin positif juga dari sebuah tweet."
   ]
  },
  {
   "cell_type": "code",
   "execution_count": 67,
   "id": "06bfd68b",
   "metadata": {},
   "outputs": [
    {
     "ename": "AttributeError",
     "evalue": "'list' object has no attribute 'info'",
     "output_type": "error",
     "traceback": [
      "\u001b[1;31m---------------------------------------------------------------------------\u001b[0m",
      "\u001b[1;31mAttributeError\u001b[0m                            Traceback (most recent call last)",
      "Cell \u001b[1;32mIn[67], line 1\u001b[0m\n\u001b[1;32m----> 1\u001b[0m clean_texts\u001b[38;5;241m.\u001b[39minfo()\n",
      "\u001b[1;31mAttributeError\u001b[0m: 'list' object has no attribute 'info'"
     ]
    }
   ],
   "source": [
    "clean_texts.info()\n"
   ]
  }
 ],
 "metadata": {
  "kernelspec": {
   "display_name": "Python 3 (ipykernel)",
   "language": "python",
   "name": "python3"
  },
  "language_info": {
   "codemirror_mode": {
    "name": "ipython",
    "version": 3
   },
   "file_extension": ".py",
   "mimetype": "text/x-python",
   "name": "python",
   "nbconvert_exporter": "python",
   "pygments_lexer": "ipython3",
   "version": "3.11.5"
  }
 },
 "nbformat": 4,
 "nbformat_minor": 5
}
